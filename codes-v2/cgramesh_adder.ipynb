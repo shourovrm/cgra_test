{
 "cells": [
  {
   "cell_type": "code",
   "execution_count": 1,
   "metadata": {},
   "outputs": [],
   "source": [
    "import sys\n",
    "sys.path.append('../../')"
   ]
  },
  {
   "cell_type": "code",
   "execution_count": 2,
   "metadata": {
    "ExecuteTime": {
     "end_time": "2023-08-01T23:58:47.887276949Z",
     "start_time": "2023-08-01T23:58:47.801806452Z"
    },
    "collapsed": true
   },
   "outputs": [],
   "source": [
    "from VectorCGRA.lib.common                  import *\n",
    "from pymtl3.stdlib.test.test_srcs           import TestSrcRTL\n",
    "from VectorCGRA.lib.ctrl_helper             import *\n",
    "from VectorCGRA.fu.flexible.FlexibleFuRTL   import FlexibleFuRTL\n",
    "from VectorCGRA.fu.single.AdderRTL          import AdderRTL\n",
    "from VectorCGRA.fu.single.MulRTL            import MulRTL\n",
    "from VectorCGRA.fu.single.PhiRTL            import PhiRTL\n",
    "from VectorCGRA.fu.single.CompRTL           import CompRTL\n",
    "from VectorCGRA.fu.single.BranchRTL         import BranchRTL\n",
    "from VectorCGRA.fu.single.MemUnitRTL        import MemUnitRTL\n",
    "from VectorCGRA.fu.single.SelRTL            import SelRTL\n",
    "from VectorCGRA.fu.single.ShifterRTL        import ShifterRTL\n",
    "from VectorCGRA.fu.single.LogicRTL          import LogicRTL\n",
    "from VectorCGRA.fu.single.RetRTL            import RetRTL\n",
    "from VectorCGRA.fu.double.SeqMulAdderRTL    import SeqMulAdderRTL\n",
    "from VectorCGRA.cgra.CGRATemplateRTL        import CGRATemplateRTL\n",
    "from VectorCGRA.cgra.CGRAKingMeshRTL        import CGRAKingMeshRTL\n",
    "\n",
    "\n",
    "from pymtl3.passes import TracingConfigs\n",
    "from pymtl3.passes.backends.verilog import *\n",
    "from pymtl3.passes.backends.verilog import TranslationImportPass"
   ]
  },
  {
   "cell_type": "code",
   "execution_count": 3,
   "metadata": {
    "ExecuteTime": {
     "end_time": "2023-08-01T23:58:49.319555303Z",
     "start_time": "2023-08-01T23:58:48.382768761Z"
    },
    "collapsed": false
   },
   "outputs": [],
   "source": [
    "import os\n",
    "import json\n",
    "import matplotlib.pyplot as plt\n",
    "from PIL import Image\n",
    "import numpy as np"
   ]
  },
  {
   "cell_type": "markdown",
   "metadata": {
    "collapsed": false
   },
   "source": [
    " ## Compilation"
   ]
  },
  {
   "cell_type": "code",
   "execution_count": 4,
   "metadata": {},
   "outputs": [
    {
     "data": {
      "text/plain": [
       "'/home/rms/repos/RecoNTT-CGRA/test_build/codes'"
      ]
     },
     "execution_count": 4,
     "metadata": {},
     "output_type": "execute_result"
    }
   ],
   "source": [
    "os.getcwd()"
   ]
  },
  {
   "cell_type": "code",
   "execution_count": 5,
   "metadata": {
    "ExecuteTime": {
     "end_time": "2023-08-01T23:58:51.645248457Z",
     "start_time": "2023-08-01T23:58:51.222080224Z"
    },
    "collapsed": false
   },
   "outputs": [],
   "source": [
    "!rm -rf ../results/\n",
    "!mkdir -p ../results/"
   ]
  },
  {
   "cell_type": "code",
   "execution_count": 6,
   "metadata": {},
   "outputs": [],
   "source": [
    "# Remember the original working directory\n",
    "orig_dir = os.getcwd()"
   ]
  },
  {
   "cell_type": "code",
   "execution_count": 7,
   "metadata": {
    "ExecuteTime": {
     "end_time": "2023-08-01T23:58:52.609427106Z",
     "start_time": "2023-08-01T23:58:52.154591232Z"
    },
    "collapsed": false
   },
   "outputs": [],
   "source": [
    "!clang-12 -emit-llvm -O3 -fno-unroll-loops -o ../results/kernel.bc -c ../kernels/fir-adder.cpp\n",
    "!llvm-dis-12 ../results/kernel.bc -o ../results/kernel.ll"
   ]
  },
  {
   "cell_type": "code",
   "execution_count": 8,
   "metadata": {},
   "outputs": [
    {
     "name": "stdout",
     "output_type": "stream",
     "text": [
      "1. _Z6kernelPfS_S_\n"
     ]
    }
   ],
   "source": [
    "# read the file and generate the options\n",
    "irFile = open('../results/kernel.ll', 'r')\n",
    "irLines = irFile.readlines()\n",
    "targetKernels = []\n",
    "for line in irLines:\n",
    "    if \"define \" in line and \"{\" in line and \"@\" in line:\n",
    "        funcName = line.split(\"@\")[1].split(\"(\")[0]\n",
    "        if \"main\" not in funcName:\n",
    "            targetKernels.append(funcName)\n",
    "irFile.close()\n",
    "\n",
    "# print the options\n",
    "for i, kernel in enumerate(targetKernels):\n",
    "    print(f\"{i+1}. {kernel}\")\n",
    "\n"
   ]
  },
  {
   "cell_type": "code",
   "execution_count": 9,
   "metadata": {},
   "outputs": [
    {
     "name": "stdout",
     "output_type": "stream",
     "text": [
      "Selected kernel:  _Z6kernelPfS_S_\n"
     ]
    }
   ],
   "source": [
    "# ask the user to input the number of the selected kernel\n",
    "selected_index = int(input(\"Enter the number of the selected kernel: \")) - 1\n",
    "\n",
    "# get the selected kernel\n",
    "targetKernel = targetKernels[selected_index]\n",
    "print(\"Selected kernel: \", targetKernel)"
   ]
  },
  {
   "cell_type": "markdown",
   "metadata": {
    "collapsed": false
   },
   "source": [
    "## CGRA definition"
   ]
  },
  {
   "cell_type": "code",
   "execution_count": null,
   "metadata": {
    "ExecuteTime": {
     "end_time": "2023-08-02T00:19:53.693336890Z",
     "start_time": "2023-08-02T00:19:53.689078893Z"
    },
    "collapsed": false
   },
   "outputs": [],
   "source": [
    "# targetKernel = '_Z6kernelii'"
   ]
  },
  {
   "cell_type": "code",
   "execution_count": 10,
   "metadata": {},
   "outputs": [],
   "source": [
    "width             = 2\n",
    "height            = 2\n",
    "ctrl_mem_size     = 8\n",
    "data_mem_size     = 8"
   ]
  },
  {
   "cell_type": "code",
   "execution_count": 11,
   "metadata": {
    "ExecuteTime": {
     "end_time": "2023-08-02T00:19:54.011736872Z",
     "start_time": "2023-08-02T00:19:54.003268900Z"
    },
    "collapsed": false
   },
   "outputs": [],
   "source": [
    "arch = {\n",
    "  \"kernel\"                : targetKernel,\n",
    "  \"targetFunction\"        : False,\n",
    "  \"targetNested\"          : False,\n",
    "  \"targetLoopsID\"         : [0],\n",
    "  \"doCGRAMapping\"         : True,\n",
    "  \"row\"                   : height,\n",
    "  \"column\"                : width,\n",
    "  \"precisionAware\"        : False,\n",
    "  \"heterogeneity\"         : False,\n",
    "  \"isTrimmedDemo\"         : True,\n",
    "  \"heuristicMapping\"      : True,\n",
    "  \"parameterizableCGRA\"   : False,\n",
    "  \"diagonalVectorization\" : False,\n",
    "  \"bypassConstraint\"      : 4,\n",
    "  \"isStaticElasticCGRA\"   : False,\n",
    "  \"ctrlMemConstraint\"     : ctrl_mem_size,\n",
    "  \"regConstraint\"         : 8\n",
    "}\n"
   ]
  },
  {
   "cell_type": "code",
   "execution_count": 12,
   "metadata": {},
   "outputs": [],
   "source": [
    "# Remember the original working directory\n",
    "# orig_dir = os.getcwd()\n",
    "\n",
    "# Change to your desired directory\n",
    "os.chdir(\"../results/\")"
   ]
  },
  {
   "cell_type": "code",
   "execution_count": 13,
   "metadata": {},
   "outputs": [
    {
     "data": {
      "text/plain": [
       "'/home/rms/repos/RecoNTT-CGRA/test_build/results'"
      ]
     },
     "execution_count": 13,
     "metadata": {},
     "output_type": "execute_result"
    }
   ],
   "source": [
    "os.getcwd()"
   ]
  },
  {
   "cell_type": "code",
   "execution_count": 14,
   "metadata": {
    "ExecuteTime": {
     "end_time": "2023-08-02T00:19:54.548889524Z",
     "start_time": "2023-08-02T00:19:54.536652023Z"
    },
    "collapsed": false
   },
   "outputs": [],
   "source": [
    "paramCGRAJsonObject = json.dumps(arch, indent=4)\n",
    "# Writing to param.json\n",
    "with open('param.json', \"w\") as outfile:\n",
    "    outfile.write(paramCGRAJsonObject)"
   ]
  },
  {
   "cell_type": "markdown",
   "metadata": {
    "collapsed": false
   },
   "source": [
    "## Mapping"
   ]
  },
  {
   "cell_type": "code",
   "execution_count": 15,
   "metadata": {},
   "outputs": [
    {
     "data": {
      "text/plain": [
       "'/home/rms/repos/RecoNTT-CGRA/test_build/results'"
      ]
     },
     "execution_count": 15,
     "metadata": {},
     "output_type": "execute_result"
    }
   ],
   "source": [
    "os.getcwd()"
   ]
  },
  {
   "cell_type": "code",
   "execution_count": 16,
   "metadata": {},
   "outputs": [
    {
     "name": "stdout",
     "output_type": "stream",
     "text": [
      "Mapping II: 4\n"
     ]
    }
   ],
   "source": [
    "import os\n",
    "import subprocess\n",
    "# from PIL import Image, ImageDraw, ImageFont\n",
    "\n",
    "# os.system(\"rm *.dot\")\n",
    "mappingCommand = [\"opt-12\", \"-load\", \"../../CGRA-Mapper/build/src/libmapperPass.so\", \"-mapperPass\", \"kernel.bc\"]\n",
    "# mappingCommand = \"opt -load /content/RecoNTT-CGRA/CGRA-Mapper/build/src/libmapperPass.so -mapperPass kernel.bc\"\n",
    "result = subprocess.run(mappingCommand, capture_output=True)\n",
    "success = False\n",
    "mappingII = -1\n",
    "strMapII = ''\n",
    "\n",
    "line = result.stdout.decode(\"ISO-8859-1\")\n",
    "\n",
    "if \"[Mapping II: \" in line:\n",
    "  success = True\n",
    "  strMapII = line.split(\"[Mapping II: \")[1].split(\"]\")[0]\n",
    "  mappingII = int(strMapII)\n",
    "  print(f\"Mapping II: {mappingII}\")\n",
    "\n",
    "if not success or mappingII == -1:\n",
    "  print(\"DFG mapping failed\")\n"
   ]
  },
  {
   "cell_type": "code",
   "execution_count": null,
   "metadata": {},
   "outputs": [],
   "source": [
    "# make sure you have the correct location of the mapper in the following line\n",
    "# !opt-12 -load ../../CGRA-Mapper/build/src/libmapperPass.so -mapperPass kernel.bc"
   ]
  },
  {
   "cell_type": "markdown",
   "metadata": {
    "collapsed": false
   },
   "source": [
    "## view the dfg"
   ]
  },
  {
   "cell_type": "code",
   "execution_count": 17,
   "metadata": {
    "ExecuteTime": {
     "end_time": "2023-08-02T00:19:57.474046068Z",
     "start_time": "2023-08-02T00:19:57.071617835Z"
    },
    "collapsed": false
   },
   "outputs": [
    {
     "data": {
      "image/png": "[encoded data removed]",
      "text/plain": [
       "<Figure size 640x480 with 1 Axes>"
      ]
     },
     "metadata": {},
     "output_type": "display_data"
    }
   ],
   "source": [
    "!dot -Tpng *.dot -o kernel.png\n",
    "pil_im = Image.open('kernel.png')\n",
    "im_array = np.asarray(pil_im)\n",
    "plt.imshow(im_array)\n",
    "plt.show()"
   ]
  },
  {
   "cell_type": "markdown",
   "metadata": {
    "collapsed": false
   },
   "source": [
    "## Generate the configuration file from the map"
   ]
  },
  {
   "cell_type": "code",
   "execution_count": 18,
   "metadata": {},
   "outputs": [],
   "source": [
    "fuType2RTL = {}\n",
    "fuType2RTL[\"Phi\"  ] = PhiRTL\n",
    "fuType2RTL[\"Add\"  ] = AdderRTL\n",
    "fuType2RTL[\"Shift\"] = ShifterRTL\n",
    "fuType2RTL[\"Ld\"   ] = MemUnitRTL\n",
    "fuType2RTL[\"St\"   ] = MemUnitRTL\n",
    "fuType2RTL[\"Sel\"  ] = SelRTL\n",
    "fuType2RTL[\"Cmp\"  ] = CompRTL\n",
    "fuType2RTL[\"MAC\"  ] = SeqMulAdderRTL\n",
    "fuType2RTL[\"Ret\"  ] = RetRTL\n",
    "fuType2RTL[\"Mul\"  ] = MulRTL\n",
    "fuType2RTL[\"Logic\"] = LogicRTL\n",
    "fuType2RTL[\"Br\"   ] = BranchRTL"
   ]
  },
  {
   "cell_type": "code",
   "execution_count": 19,
   "metadata": {},
   "outputs": [],
   "source": [
    "width             = 2\n",
    "height            = 2\n",
    "num_tile_inports  = 4\n",
    "num_tile_outports = 4\n",
    "num_xbar_inports  = 8\n",
    "num_xbar_outports = 8\n",
    "ctrl_mem_size     = 8\n",
    "data_mem_size     = 8\n",
    "\n",
    "\n",
    "# bandwidth     = 8\n",
    "# InDataType    = mk_bits( bandwidth )\n",
    "# OutDataType   = mk_bits( bandwidth+1 )\n",
    "\n",
    "RouteType         = mk_bits( clog2( num_xbar_inports + 1 ) )\n",
    "AddrType          = mk_bits( clog2( ctrl_mem_size ) )\n",
    "num_tiles         = width * height\n",
    "num_fu_in         = 4\n",
    "FunctionUnit      = FlexibleFuRTL\n",
    "FuList           = [ PhiRTL, AdderRTL, ShifterRTL, MemUnitRTL, SelRTL, CompRTL, SeqMulAdderRTL, RetRTL, MulRTL, LogicRTL, BranchRTL ]\n",
    "DataType          = mk_data( 32, 1 )\n",
    "PredicateType     = mk_predicate( 1, 1 )\n",
    "CtrlType          = mk_ctrl( num_fu_in, num_xbar_inports, num_xbar_outports )\n",
    "FuInType          = mk_bits( clog2( num_fu_in + 1 ) )\n",
    "pickRegister      = [ FuInType( x+1 ) for x in range( num_fu_in ) ]\n",
    "\n",
    "# src_in0       = [ InDataType(13),  InDataType(27),  InDataType(24) ]\n",
    "# src_in1       = [ InDataType(12),  InDataType(16),  InDataType(21) ]\n",
    "# src_const     = [ InDataType(15),  InDataType(7),  InDataType(29) ]\n",
    "# sink_out      = [ OutDataType(28), OutDataType(11), OutDataType(53) ]\n",
    "# src_opt       = [ CtrlType( OPT_ADD_CONST, b1( 1 ), pickRegister ),\n",
    "#                 CtrlType( OPT_SUB,       b1( 1 ), pickRegister ),\n",
    "#                 CtrlType( OPT_ADD_CONST, b1( 1 ), pickRegister ) ]\n",
    "\n",
    "\n",
    "DUT = CGRATemplateRTL"
   ]
  },
  {
   "cell_type": "code",
   "execution_count": 20,
   "metadata": {
    "ExecuteTime": {
     "end_time": "2023-08-02T00:19:58.398467896Z",
     "start_time": "2023-08-02T00:19:58.391439375Z"
    },
    "collapsed": false
   },
   "outputs": [],
   "source": [
    "target_json = \"config.json\"\n",
    "script_dir  = os.path.abspath(\"\")\n",
    "file_path   = os.path.join( script_dir,target_json )"
   ]
  },
  {
   "cell_type": "code",
   "execution_count": 21,
   "metadata": {
    "ExecuteTime": {
     "end_time": "2023-08-02T00:19:59.216227073Z",
     "start_time": "2023-08-02T00:19:59.202903544Z"
    },
    "collapsed": false
   },
   "outputs": [],
   "source": [
    "II                = mappingII # set the II value from before"
   ]
  },
  {
   "cell_type": "code",
   "execution_count": 22,
   "metadata": {
    "ExecuteTime": {
     "end_time": "2023-08-02T00:19:59.796793092Z",
     "start_time": "2023-08-02T00:19:59.787831625Z"
    },
    "collapsed": false
   },
   "outputs": [],
   "source": [
    "cgra_ctrl         = CGRACtrl( file_path, CtrlType, RouteType, width, height,\n",
    "                                num_fu_in, num_xbar_inports, num_xbar_outports, II)"
   ]
  },
  {
   "cell_type": "code",
   "execution_count": 23,
   "metadata": {
    "ExecuteTime": {
     "end_time": "2023-08-02T00:20:01.689699900Z",
     "start_time": "2023-08-02T00:20:01.682875327Z"
    },
    "collapsed": false
   },
   "outputs": [],
   "source": [
    "src_opt           = cgra_ctrl.get_ctrl()"
   ]
  },
  {
   "cell_type": "code",
   "execution_count": null,
   "metadata": {
    "ExecuteTime": {
     "end_time": "2023-08-02T00:20:26.247324964Z",
     "start_time": "2023-08-02T00:20:26.201956602Z"
    },
    "collapsed": false
   },
   "outputs": [],
   "source": [
    "src_opt"
   ]
  },
  {
   "cell_type": "markdown",
   "metadata": {
    "collapsed": false
   },
   "source": [
    "## create the test harness"
   ]
  },
  {
   "cell_type": "code",
   "execution_count": 24,
   "metadata": {
    "ExecuteTime": {
     "end_time": "2023-08-02T00:37:00.291572453Z",
     "start_time": "2023-08-02T00:37:00.249604949Z"
    },
    "collapsed": false
   },
   "outputs": [],
   "source": [
    "class TestHarness( Component ):\n",
    "\n",
    "  def construct( s, DUT, FunctionUnit, FuList, DataType, PredicateType,\n",
    "                 CtrlType, width, height, ctrl_mem_size, data_mem_size,\n",
    "                 src_opt, ctrl_waddr, tileList, linkList, dataSPM, preload_data = None,\n",
    "                 preload_const = None  ):\n",
    "\n",
    "    s.num_tiles = len(tileList)\n",
    "    AddrType = mk_bits( clog2( ctrl_mem_size ) )\n",
    "\n",
    "    s.src_opt     = [ TestSrcRTL( CtrlType, src_opt[i] )\n",
    "                      for i in range( s.num_tiles ) ]\n",
    "    s.ctrl_waddr  = [ TestSrcRTL( AddrType, ctrl_waddr[i] )\n",
    "                      for i in range( s.num_tiles ) ]\n",
    "\n",
    "    s.dut = DUT( DataType, PredicateType, CtrlType, width, height,\n",
    "                 ctrl_mem_size, data_mem_size, len( src_opt[0] ),\n",
    "                 FunctionUnit, FuList, tileList, linkList, dataSPM )\n",
    "\n",
    "    for i in range( s.num_tiles ):\n",
    "      connect( s.src_opt[i].send,     s.dut.recv_wopt[i]  )\n",
    "      connect( s.ctrl_waddr[i].send,  s.dut.recv_waddr[i] )\n",
    "\n",
    "  def done( s ):\n",
    "    done = True\n",
    "    for i in range( s.num_tiles  ):\n",
    "      if not s.src_opt[i].done():\n",
    "        done = False\n",
    "        break\n",
    "    return done\n",
    "\n",
    "  def line_trace( s ):\n",
    "    return s.dut.line_trace()\n",
    "\n",
    "class Tile:\n",
    "  def __init__( s, dimX, dimY ):\n",
    "    s.disabled = False\n",
    "    s.dimX = dimX\n",
    "    s.dimY = dimY\n",
    "    s.toMem = False\n",
    "    s.fromMem = False\n",
    "    s.invalidOutPorts = set()\n",
    "    s.invalidInPorts = set()\n",
    "    for i in range( PORT_DIRECTION_COUNTS ):\n",
    "      s.invalidOutPorts.add(i)\n",
    "      s.invalidInPorts.add(i)\n",
    "\n",
    "  def getInvalidInPorts(s):\n",
    "    return s.invalidInPorts\n",
    "\n",
    "  def getInvalidOutPorts(s):\n",
    "    return s.invalidOutPorts\n",
    "\n",
    "  def hasToMem(s):\n",
    "    return s.toMem\n",
    "\n",
    "  def hasFromMem(s):\n",
    "    return s.fromMem\n",
    "\n",
    "  def getIndex( s, tileList ):\n",
    "    if s.disabled:\n",
    "      return -1\n",
    "    index = 0\n",
    "    for tile in tileList:\n",
    "      if tile.dimY < s.dimY and not tile.disabled:\n",
    "        index += 1\n",
    "      elif tile.dimY == s.dimY and tile.dimX < s.dimX and not tile.disabled:\n",
    "        index += 1\n",
    "    return index\n",
    "\n",
    "class DataSPM:\n",
    "  def __init__( s, numOfReadPorts, numOfWritePorts ):\n",
    "    s.numOfReadPorts = numOfReadPorts\n",
    "    s.numOfWritePorts = numOfWritePorts\n",
    "\n",
    "  def getNumOfValidReadPorts( s ):\n",
    "    return s.numOfReadPorts\n",
    "\n",
    "  def getNumOfValidWritePorts( s ):\n",
    "    return s.numOfWritePorts\n",
    "\n",
    "class Link:\n",
    "  def __init__( s, srcTile, dstTile, srcPort, dstPort ):\n",
    "    s.srcTile = srcTile\n",
    "    s.dstTile = dstTile\n",
    "    s.srcPort = srcPort\n",
    "    s.dstPort = dstPort\n",
    "    s.disabled = False\n",
    "    s.toMem = False\n",
    "    s.fromMem = False\n",
    "    s.memPort = -1\n",
    "\n",
    "  def getMemReadPort(s):\n",
    "      return s.memPort\n",
    "\n",
    "  def getMemWritePort(s):\n",
    "      return s.memPort\n",
    "\n",
    "  def isToMem(s):\n",
    "    return s.toMem\n",
    "\n",
    "  def isFromMem(s):\n",
    "    return s.fromMem\n",
    "\n",
    "  def validatePorts( s ):\n",
    "    if not s.toMem and not s.fromMem:\n",
    "      s.srcTile.invalidOutPorts.remove(s.srcPort)\n",
    "      s.dstTile.invalidInPorts.remove(s.dstPort)\n",
    "    if s.toMem:\n",
    "      s.srcTile.toMem = True\n",
    "    if s.fromMem:\n",
    "      s.dstTile.fromMem = True\n"
   ]
  },
  {
   "cell_type": "code",
   "execution_count": 26,
   "metadata": {
    "ExecuteTime": {
     "end_time": "2023-08-02T00:37:02.065013241Z",
     "start_time": "2023-08-02T00:37:02.059291398Z"
    },
    "collapsed": false
   },
   "outputs": [],
   "source": [
    "\n",
    "def run_sim( test_harness, max_cycles=10 ):\n",
    "  test_harness.elaborate()\n",
    "  test_harness.dut.verilog_translate_import = True\n",
    "  test_harness.dut.config_verilog_import = VerilatorImportConfigs(vl_Wno_list=['UNSIGNED', 'UNOPTFLAT', 'WIDTH', 'WIDTHCONCAT', 'ALWCOMBORDER'],\n",
    "                                                                  vl_trace_filename=\"test\",\n",
    "                                                                  vl_trace=True)\n",
    "  test_harness = TranslationImportPass()(test_harness)\n",
    "  test_harness.apply( SimulationPass() )\n",
    "  # test_harness.sim_reset()\n",
    "\n",
    "  # Run simulation\n",
    "  ncycles = 0\n",
    "  print()\n",
    "  print( \"{}:{}\".format( ncycles, test_harness.line_trace() ))\n",
    "  while not test_harness.done() and ncycles < max_cycles:\n",
    "    test_harness.tick()\n",
    "    ncycles += 1\n",
    "    print( \"{}:{}\".format( ncycles, test_harness.line_trace() ))\n",
    "\n",
    "  # Check timeout\n",
    "  assert ncycles < max_cycles\n",
    "\n",
    "  test_harness.tick()\n",
    "  test_harness.tick()\n",
    "  test_harness.tick()"
   ]
  },
  {
   "cell_type": "code",
   "execution_count": 27,
   "metadata": {
    "ExecuteTime": {
     "end_time": "2023-08-02T00:37:02.889799328Z",
     "start_time": "2023-08-02T00:37:02.873301314Z"
    },
    "collapsed": false
   },
   "outputs": [],
   "source": [
    "tiles = []\n",
    "links = None\n",
    "\n",
    "dataSPM = DataSPM(2, 2)\n",
    "for r in range( 2 ):\n",
    "    tiles.append([])\n",
    "    for c in range( 2 ):\n",
    "        tiles[r].append(Tile(c, r))\n",
    "\n",
    "links = [ Link(None, None, 0, 0) for _ in range(16) ]\n",
    "\n",
    "links[0].srcTile = None\n",
    "links[0].dstTile = tiles[0][0]\n",
    "links[0].srcPort = 0\n",
    "links[0].dstPort = PORT_WEST\n",
    "links[0].fromMem = True\n",
    "links[0].memPort = 0\n",
    "links[0].validatePorts()\n",
    "\n",
    "links[1].srcTile = tiles[0][0]\n",
    "links[1].dstTile = None\n",
    "links[1].srcPort = PORT_WEST\n",
    "links[1].dstPort = 0\n",
    "links[1].toMem = True\n",
    "links[1].memPort = 0\n",
    "links[1].validatePorts()\n",
    "\n",
    "links[2].srcTile = None\n",
    "links[2].dstTile = tiles[1][0]\n",
    "links[2].srcPort = 1\n",
    "links[2].dstPort = PORT_WEST\n",
    "links[2].fromMem = True\n",
    "links[2].memPort = 1\n",
    "links[2].validatePorts()\n",
    "\n",
    "links[3].srcTile = tiles[1][0]\n",
    "links[3].dstTile = None\n",
    "links[3].srcPort = PORT_WEST\n",
    "links[3].dstPort = 1\n",
    "links[3].toMem = True\n",
    "links[3].memPort = 1\n",
    "links[3].validatePorts()\n",
    "\n",
    "links[4].srcTile = tiles[0][0]\n",
    "links[4].dstTile = tiles[0][1]\n",
    "links[4].srcPort = PORT_EAST\n",
    "links[4].dstPort = PORT_WEST\n",
    "links[4].validatePorts()\n",
    "\n",
    "links[5].srcTile = tiles[0][1]\n",
    "links[5].dstTile = tiles[0][0]\n",
    "links[5].srcPort = PORT_WEST\n",
    "links[5].dstPort = PORT_EAST\n",
    "links[5].validatePorts()\n",
    "\n",
    "links[6].srcTile = tiles[1][0]\n",
    "links[6].dstTile = tiles[1][1]\n",
    "links[6].srcPort = PORT_EAST\n",
    "links[6].dstPort = PORT_WEST\n",
    "links[6].validatePorts()\n",
    "\n",
    "links[7].srcTile = tiles[1][1]\n",
    "links[7].dstTile = tiles[1][0]\n",
    "links[7].srcPort = PORT_WEST\n",
    "links[7].dstPort = PORT_EAST\n",
    "links[7].validatePorts()\n",
    "\n",
    "links[8].srcTile = tiles[0][0]\n",
    "links[8].dstTile = tiles[1][0]\n",
    "links[8].srcPort = PORT_NORTH\n",
    "links[8].dstPort = PORT_SOUTH\n",
    "links[8].validatePorts()\n",
    "\n",
    "links[9].srcTile = tiles[1][0]\n",
    "links[9].dstTile = tiles[0][0]\n",
    "links[9].srcPort = PORT_SOUTH\n",
    "links[9].dstPort = PORT_NORTH\n",
    "links[9].validatePorts()\n",
    "\n",
    "links[10].srcTile = tiles[0][1]\n",
    "links[10].dstTile = tiles[1][1]\n",
    "links[10].srcPort = PORT_NORTH\n",
    "links[10].dstPort = PORT_SOUTH\n",
    "links[10].validatePorts()\n",
    "\n",
    "links[11].srcTile = tiles[1][1]\n",
    "links[11].dstTile = tiles[0][1]\n",
    "links[11].srcPort = PORT_SOUTH\n",
    "links[11].dstPort = PORT_NORTH\n",
    "links[11].validatePorts()\n",
    "\n",
    "links[12].srcTile = tiles[0][0]\n",
    "links[12].dstTile = tiles[1][1]\n",
    "links[12].srcPort = PORT_NORTHEAST\n",
    "links[12].dstPort = PORT_SOUTHWEST\n",
    "links[12].validatePorts()\n",
    "\n",
    "links[13].srcTile = tiles[1][1]\n",
    "links[13].dstTile = tiles[0][0]\n",
    "links[13].srcPort = PORT_SOUTHWEST\n",
    "links[13].dstPort = PORT_NORTHEAST\n",
    "links[13].validatePorts()\n",
    "\n",
    "links[14].srcTile = tiles[0][1]\n",
    "links[14].dstTile = tiles[1][0]\n",
    "links[14].srcPort = PORT_NORTHWEST\n",
    "links[14].dstPort = PORT_SOUTHEAST\n",
    "links[14].validatePorts()\n",
    "\n",
    "links[15].srcTile = tiles[1][0]\n",
    "links[15].dstTile = tiles[0][1]\n",
    "links[15].srcPort = PORT_SOUTHEAST\n",
    "links[15].dstPort = PORT_NORTHWEST\n",
    "links[15].validatePorts()\n",
    "\n",
    "def handleReshape( t_tiles ):\n",
    "    tiles = []\n",
    "    for row in t_tiles:\n",
    "        for t in row:\n",
    "          tiles.append(t)\n",
    "    return tiles\n",
    "\n",
    "tiles = handleReshape(tiles)"
   ]
  },
  {
   "cell_type": "markdown",
   "metadata": {
    "collapsed": false
   },
   "source": [
    "## Create the data"
   ]
  },
  {
   "cell_type": "code",
   "execution_count": 37,
   "metadata": {
    "ExecuteTime": {
     "end_time": "2023-08-02T00:37:03.345372309Z",
     "start_time": "2023-08-02T00:37:03.340224073Z"
    },
    "collapsed": false
   },
   "outputs": [],
   "source": [
    "ctrl_waddr        = [[ AddrType( 0 ), AddrType( 1 ), AddrType( 2 ), AddrType( 3 ),\n",
    "                         AddrType( 4 ), AddrType( 5 ) ] for _ in range( num_tiles ) ]\n",
    "preload_data      = [ DataType( 7, 2 ) ] * data_mem_size\n",
    "preload_const     = []\n",
    "for _ in range( num_tiles ):\n",
    "    preload_const.append([])\n",
    "\n",
    "preload_const[0].append( DataType( 3, 3) )\n",
    "preload_const[1].append( DataType( 4, 4) )\n",
    "preload_const[2].append( DataType( 5, 5) )\n",
    "preload_const[3].append( DataType( 6, 6) )\n"
   ]
  },
  {
   "cell_type": "code",
   "execution_count": 38,
   "metadata": {},
   "outputs": [
    {
     "data": {
      "text/plain": [
       "[[CGRAData_32_1_1(Bits32(0x00000003),Bits1(0x1),Bits1(0x0))],\n",
       " [CGRAData_32_1_1(Bits32(0x00000004),Bits1(0x0),Bits1(0x0))],\n",
       " [CGRAData_32_1_1(Bits32(0x00000005),Bits1(0x1),Bits1(0x0))],\n",
       " [CGRAData_32_1_1(Bits32(0x00000006),Bits1(0x0),Bits1(0x0))]]"
      ]
     },
     "execution_count": 38,
     "metadata": {},
     "output_type": "execute_result"
    }
   ],
   "source": [
    "preload_const"
   ]
  },
  {
   "cell_type": "code",
   "execution_count": 35,
   "metadata": {},
   "outputs": [
    {
     "data": {
      "text/plain": [
       "[CGRAData_32_1_1(Bits32(0x00000007),Bits1(0x0),Bits1(0x0)),\n",
       " CGRAData_32_1_1(Bits32(0x00000007),Bits1(0x0),Bits1(0x0)),\n",
       " CGRAData_32_1_1(Bits32(0x00000007),Bits1(0x0),Bits1(0x0)),\n",
       " CGRAData_32_1_1(Bits32(0x00000007),Bits1(0x0),Bits1(0x0)),\n",
       " CGRAData_32_1_1(Bits32(0x00000007),Bits1(0x0),Bits1(0x0)),\n",
       " CGRAData_32_1_1(Bits32(0x00000007),Bits1(0x0),Bits1(0x0)),\n",
       " CGRAData_32_1_1(Bits32(0x00000007),Bits1(0x0),Bits1(0x0)),\n",
       " CGRAData_32_1_1(Bits32(0x00000007),Bits1(0x0),Bits1(0x0))]"
      ]
     },
     "execution_count": 35,
     "metadata": {},
     "output_type": "execute_result"
    }
   ],
   "source": [
    "preload_data "
   ]
  },
  {
   "cell_type": "markdown",
   "metadata": {
    "collapsed": false
   },
   "source": [
    "## Run the simulation"
   ]
  },
  {
   "cell_type": "code",
   "execution_count": 29,
   "metadata": {},
   "outputs": [],
   "source": [
    "!rm -rf ../results/verilog\n",
    "!mkdir -p ../results/verilog\n",
    "\n",
    "# Change to your desired directory\n",
    "os.chdir(\"../results/verilog\")"
   ]
  },
  {
   "cell_type": "code",
   "execution_count": 40,
   "metadata": {
    "ExecuteTime": {
     "end_time": "2023-08-02T00:37:21.827510316Z",
     "start_time": "2023-08-02T00:37:04.772343941Z"
    },
    "collapsed": false
   },
   "outputs": [
    {
     "name": "stdout",
     "output_type": "stream",
     "text": [
      "\n",
      "0: clk=0, reset=0, recv_waddr[0].en=0, recv_waddr[1].en=0, recv_waddr[2].en=0, recv_waddr[3].en=0, recv_waddr[0].msg=0, recv_waddr[1].msg=0, recv_waddr[2].msg=0, recv_waddr[3].msg=0, recv_waddr[0].rdy=0, recv_waddr[1].rdy=0, recv_waddr[2].rdy=0, recv_waddr[3].rdy=0, recv_wopt[0].en=0, recv_wopt[1].en=0, recv_wopt[2].en=0, recv_wopt[3].en=0, recv_wopt[0].msg=(opt)00|(in)0-0-0-0|(p)0|(out)0-0-0-0-0-0-0-0|(p_in)0-0-0-0-0-0-0-0, recv_wopt[1].msg=(opt)00|(in)0-0-0-0|(p)0|(out)0-0-0-0-0-0-0-0|(p_in)0-0-0-0-0-0-0-0, recv_wopt[2].msg=(opt)00|(in)0-0-0-0|(p)0|(out)0-0-0-0-0-0-0-0|(p_in)0-0-0-0-0-0-0-0, recv_wopt[3].msg=(opt)00|(in)0-0-0-0|(p)0|(out)0-0-0-0-0-0-0-0|(p_in)0-0-0-0-0-0-0-0, recv_wopt[0].rdy=0, recv_wopt[1].rdy=0, recv_wopt[2].rdy=0, recv_wopt[3].rdy=0,\n",
      "%Warning: previous dump at t=50, requesting t=50, dump call ignored\n",
      "1: clk=0, reset=0, recv_waddr[0].en=1, recv_waddr[1].en=1, recv_waddr[2].en=1, recv_waddr[3].en=1, recv_waddr[0].msg=0, recv_waddr[1].msg=0, recv_waddr[2].msg=0, recv_waddr[3].msg=0, recv_waddr[0].rdy=1, recv_waddr[1].rdy=1, recv_waddr[2].rdy=1, recv_waddr[3].rdy=1, recv_wopt[0].en=1, recv_wopt[1].en=1, recv_wopt[2].en=1, recv_wopt[3].en=1, recv_wopt[0].msg=(opt)0d|(in)1-2-0-0|(p)0|(out)0-0-0-0-4-0-0-0|(p_in)0-0-0-0-0-0-0-0, recv_wopt[1].msg=(opt)19|(in)1-2-0-0|(p)0|(out)5-0-1-0-0-0-0-0|(p_in)0-0-0-0-0-0-0-0, recv_wopt[2].msg=(opt)19|(in)1-2-0-0|(p)0|(out)0-0-0-0-5-0-0-0|(p_in)0-0-0-0-0-0-0-0, recv_wopt[3].msg=(opt)19|(in)1-2-0-0|(p)0|(out)0-5-0-0-2-2-0-0|(p_in)0-0-0-0-0-0-0-0, recv_wopt[0].rdy=1, recv_wopt[1].rdy=1, recv_wopt[2].rdy=1, recv_wopt[3].rdy=1,\n",
      "%Warning: previous dump at t=50, requesting t=50, dump call ignored\n",
      "%Warning: previous dump at t=50, requesting t=50, dump call ignored\n",
      "%Warning: previous dump at t=150, requesting t=150, dump call ignored\n",
      "2: clk=0, reset=0, recv_waddr[0].en=1, recv_waddr[1].en=1, recv_waddr[2].en=1, recv_waddr[3].en=1, recv_waddr[0].msg=1, recv_waddr[1].msg=1, recv_waddr[2].msg=1, recv_waddr[3].msg=1, recv_waddr[0].rdy=1, recv_waddr[1].rdy=1, recv_waddr[2].rdy=1, recv_waddr[3].rdy=1, recv_wopt[0].en=1, recv_wopt[1].en=1, recv_wopt[2].en=1, recv_wopt[3].en=1, recv_wopt[0].msg=(opt)19|(in)1-2-0-0|(p)0|(out)5-0-0-0-0-1-4-0|(p_in)0-0-0-0-0-0-0-0, recv_wopt[1].msg=(opt)01|(in)0-0-0-0|(p)0|(out)0-0-0-0-1-0-0-0|(p_in)0-0-0-0-0-0-0-0, recv_wopt[2].msg=(opt)0c|(in)1-2-0-0|(p)0|(out)0-5-0-0-2-0-0-0|(p_in)0-0-0-0-0-0-0-0, recv_wopt[3].msg=(opt)21|(in)1-2-0-0|(p)0|(out)0-5-0-0-0-0-0-0|(p_in)0-0-0-0-0-0-0-0, recv_wopt[0].rdy=1, recv_wopt[1].rdy=1, recv_wopt[2].rdy=1, recv_wopt[3].rdy=1,\n",
      "%Warning: previous dump at t=150, requesting t=150, dump call ignored\n",
      "%Warning: previous dump at t=250, requesting t=250, dump call ignored\n",
      "3: clk=0, reset=0, recv_waddr[0].en=1, recv_waddr[1].en=1, recv_waddr[2].en=1, recv_waddr[3].en=1, recv_waddr[0].msg=2, recv_waddr[1].msg=2, recv_waddr[2].msg=2, recv_waddr[3].msg=2, recv_waddr[0].rdy=1, recv_waddr[1].rdy=1, recv_waddr[2].rdy=1, recv_waddr[3].rdy=1, recv_wopt[0].en=1, recv_wopt[1].en=1, recv_wopt[2].en=1, recv_wopt[3].en=1, recv_wopt[0].msg=(opt)01|(in)0-0-0-0|(p)0|(out)0-0-0-0-1-0-0-0|(p_in)0-0-0-0-0-0-0-0, recv_wopt[1].msg=(opt)10|(in)1-2-0-0|(p)0|(out)5-0-0-0-0-0-0-0|(p_in)0-0-0-0-0-0-0-0, recv_wopt[2].msg=(opt)0c|(in)1-2-0-0|(p)0|(out)0-5-0-0-0-0-0-0|(p_in)0-0-0-0-0-0-0-0, recv_wopt[3].msg=(opt)01|(in)0-0-0-0|(p)0|(out)0-0-0-0-2-0-0-0|(p_in)0-1-0-0-0-0-0-0, recv_wopt[0].rdy=1, recv_wopt[1].rdy=1, recv_wopt[2].rdy=1, recv_wopt[3].rdy=1,\n",
      "%Warning: previous dump at t=250, requesting t=250, dump call ignored\n",
      "%Warning: previous dump at t=350, requesting t=350, dump call ignored\n",
      "4: clk=0, reset=0, recv_waddr[0].en=1, recv_waddr[1].en=1, recv_waddr[2].en=1, recv_waddr[3].en=1, recv_waddr[0].msg=3, recv_waddr[1].msg=3, recv_waddr[2].msg=3, recv_waddr[3].msg=3, recv_waddr[0].rdy=1, recv_waddr[1].rdy=1, recv_waddr[2].rdy=1, recv_waddr[3].rdy=1, recv_wopt[0].en=1, recv_wopt[1].en=1, recv_wopt[2].en=1, recv_wopt[3].en=1, recv_wopt[0].msg=(opt)02|(in)1-2-0-0|(p)0|(out)0-0-0-0-5-0-0-0|(p_in)0-0-0-0-0-0-0-0, recv_wopt[1].msg=(opt)01|(in)0-0-0-0|(p)0|(out)0-0-1-0-1-0-0-0|(p_in)0-0-0-0-0-0-0-0, recv_wopt[2].msg=(opt)01|(in)0-0-0-0|(p)0|(out)0-0-0-0-4-0-0-0|(p_in)0-0-0-0-0-0-0-0, recv_wopt[3].msg=(opt)20|(in)1-2-0-0|(p)1|(out)0-5-5-0-5-0-0-0|(p_in)0-0-0-0-0-0-0-0, recv_wopt[0].rdy=1, recv_wopt[1].rdy=1, recv_wopt[2].rdy=1, recv_wopt[3].rdy=1,\n",
      "%Warning: previous dump at t=350, requesting t=350, dump call ignored\n",
      "%Warning: previous dump at t=450, requesting t=450, dump call ignored\n",
      "%Warning: previous dump at t=450, requesting t=450, dump call ignored\n",
      "%Warning: previous dump at t=550, requesting t=550, dump call ignored\n",
      "%Warning: previous dump at t=550, requesting t=550, dump call ignored\n",
      "%Warning: previous dump at t=650, requesting t=650, dump call ignored\n",
      "%Warning: previous dump at t=650, requesting t=650, dump call ignored\n"
     ]
    }
   ],
   "source": [
    "th = TestHarness( DUT, FunctionUnit, FuList, DataType, PredicateType,\n",
    "                    CtrlType, width, height, ctrl_mem_size, data_mem_size,\n",
    "                    src_opt, ctrl_waddr, tiles, links, dataSPM, preload_data, preload_const  )\n",
    "run_sim( th )"
   ]
  },
  {
   "cell_type": "code",
   "execution_count": null,
   "metadata": {
    "ExecuteTime": {
     "end_time": "2023-07-31T23:57:34.691819793Z",
     "start_time": "2023-07-31T23:57:34.647194950Z"
    },
    "collapsed": false
   },
   "outputs": [],
   "source": [
    "# When finished, change back to the original directory\n",
    "os.chdir(orig_dir)"
   ]
  }
 ],
 "metadata": {
  "kernelspec": {
   "display_name": "Python 3",
   "language": "python",
   "name": "python3"
  },
  "language_info": {
   "codemirror_mode": {
    "name": "ipython",
    "version": 3
   },
   "file_extension": ".py",
   "mimetype": "text/x-python",
   "name": "python",
   "nbconvert_exporter": "python",
   "pygments_lexer": "ipython3",
   "version": "3.7.12"
  }
 },
 "nbformat": 4,
 "nbformat_minor": 0
}
